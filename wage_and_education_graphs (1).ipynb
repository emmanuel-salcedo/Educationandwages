{
  "metadata": {
    "kernelspec": {
      "name": "python",
      "display_name": "Python (Pyodide)",
      "language": "python"
    },
    "language_info": {
      "codemirror_mode": {
        "name": "python",
        "version": 3
      },
      "file_extension": ".py",
      "mimetype": "text/x-python",
      "name": "python",
      "nbconvert_exporter": "python",
      "pygments_lexer": "ipython3",
      "version": "3.8"
    }
  },
  "nbformat_minor": 4,
  "nbformat": 4,
  "cells": [
    {
      "cell_type": "code",
      "source": "import pandas as pd\nimport matplotlib.pyplot as plt\n\n# Step 1: Read the CSV file into a DataFrame\ndf = pd.read_csv('wages_by_education.csv')",
      "metadata": {
        "trusted": true
      },
      "outputs": [],
      "execution_count": null
    },
    {
      "cell_type": "code",
      "source": "# Step 2: Prepare the data\n# Select relevant columns for analysis\neducation_columns = ['year', 'less_than_hs', 'high_school', 'some_college', 'bachelors_degree', 'advanced_degree']",
      "metadata": {
        "trusted": true
      },
      "outputs": [],
      "execution_count": null
    },
    {
      "cell_type": "code",
      "source": "# Step 3: Calculate wage gaps\n# Calculate wage gaps between different education levels\ndf['gap_hs_vs_college'] = df['high_school'] - df['some_college']\ndf['gap_college_vs_bachelors'] = df['some_college'] - df['bachelors_degree']\ndf['gap_bachelors_vs_advanced'] = df['bachelors_degree'] - df['advanced_degree']",
      "metadata": {
        "trusted": true
      },
      "outputs": [],
      "execution_count": null
    },
    {
      "cell_type": "code",
      "source": "# Step 4: Visualize trends over time\n# Plot wage gaps over time\nplt.figure(figsize=(10, 6))\nplt.plot(df['year'], df['gap_hs_vs_college'], label='High School vs College')\nplt.plot(df['year'], df['gap_college_vs_bachelors'], label='College vs Bachelor\\'s')\nplt.plot(df['year'], df['gap_bachelors_vs_advanced'], label='Bachelor\\'s vs Advanced')\nplt.xlabel('Year')\nplt.ylabel('Wage Gap (USD/hr)')\nplt.title('Wage Gap Trends Over Time by Education Level')\nplt.legend()\nplt.grid(True)\nplt.show()",
      "metadata": {
        "trusted": true
      },
      "outputs": [],
      "execution_count": null
    },
    {
      "cell_type": "code",
      "source": "# Explanation of the results from the graph:\nexplanation = \"\"\"\nThe graph illustrates the trends in wage gaps over time across various education levels. \nSpecifically, it compares the wage differentials between individuals with different levels of education attainment. \nThe gap between high school graduates and those with some college education shows a fluctuating trend, \nwith periods of narrowing and widening wage differentials. Similarly, the wage gap between individuals \nwith some college education and those with a bachelor's degree demonstrates a fluctuating pattern, albeit \nwith a generally widening trend over time. On the other hand, the wage gap between individuals with a \nbachelor's degree and those with an advanced degree exhibits a relatively stable trend, suggesting a \nconsistent difference in earnings between these groups. Overall, the graph underscores the significance \nof education in determining earning potential, with higher levels of education generally associated \nwith higher wages.\n\"\"\"\nprint(explanation)",
      "metadata": {
        "trusted": true
      },
      "outputs": [],
      "execution_count": null
    },
    {
      "cell_type": "code",
      "source": "df.head()",
      "metadata": {
        "trusted": true
      },
      "outputs": [],
      "execution_count": null
    },
    {
      "cell_type": "code",
      "source": "# Step 3: Calculate average wages for each demographic group and education level\n# For example, calculate average wages for men and women with different education levels\navg_wages_men = df[['men_less_than_hs', 'men_high_school', 'men_some_college', 'men_bachelors_degree', 'men_advanced_degree']].mean()\navg_wages_women = df[['women_less_than_hs', 'women_high_school', 'women_some_college', 'women_bachelors_degree', 'women_advanced_degree']].mean()\n\n# Similarly, calculate average wages for different racial/ethnic groups\navg_wages_white_men = df[['white_men_less_than_hs', 'white_men_high_school', 'white_men_some_college', 'white_men_bachelors_degree', 'white_men_advanced_degree']].mean()\navg_wages_white_women = df[['white_women_less_than_hs', 'white_women_high_school', 'white_women_some_college', 'white_women_bachelors_degree', 'white_women_advanced_degree']].mean()\n\navg_wages_black_men = df[['black_men_less_than_hs', 'black_men_high_school', 'black_men_some_college', 'black_men_bachelors_degree', 'black_men_advanced_degree']].mean()\navg_wages_black_women = df[['black_women_less_than_hs', 'black_women_high_school', 'black_women_some_college', 'black_women_bachelors_degree', 'black_women_advanced_degree']].mean()\n\navg_wages_hispanic_men = df[['hispanic_men_less_than_hs', 'hispanic_men_high_school', 'hispanic_men_some_college', 'hispanic_men_bachelors_degree', 'hispanic_men_advanced_degree']].mean()\navg_wages_hispanic_women = df[['hispanic_women_less_than_hs', 'hispanic_women_high_school', 'hispanic_women_some_college', 'hispanic_women_bachelors_degree', 'hispanic_women_advanced_degree']].mean()",
      "metadata": {
        "trusted": true
      },
      "outputs": [],
      "execution_count": null
    },
    {
      "cell_type": "code",
      "source": "# Define actual education level names\neducation_levels = ['Less than High School', 'High School', 'Some College', \"Bachelor's Degree\", 'Advanced Degree']\n\n# Step 4: Visualize the impact of education on wages for different demographic groups\n# Plot average wages for men and women with different education levels separately\nplt.figure(figsize=(12, 8))\n\n# Generate tick positions\ntick_positions = [x for x in range(len(avg_wages_men))]\n\n# Plot for men\nplt.bar([x - 0.2 for x in tick_positions], avg_wages_men, width=0.4, label='Men')\n# Plot for women\nplt.bar([x + 0.2 for x in tick_positions], avg_wages_women, width=0.4, label='Women')\n\nplt.xlabel('Education Level')\nplt.ylabel('Average Wage')\nplt.title('Average Wage by Education Level and Gender')\nplt.legend()\nplt.xticks(tick_positions, education_levels, rotation=45)\nplt.tight_layout()\nplt.show()\n",
      "metadata": {
        "trusted": true
      },
      "outputs": [],
      "execution_count": null
    },
    {
      "cell_type": "code",
      "source": "# Step 4 (Continued): Visualize the impact of education on wages for different racial/ethnic groups\n# Plot average wages for different racial/ethnic groups with different education levels\nplt.figure(figsize=(12, 8))\n\n# Generate tick positions\ntick_positions = [x for x in range(len(avg_wages_white_men))]\n\n# White demographic group\nplt.subplot(2, 2, 1)\n# Plot for white men\nplt.bar([x - 0.2 for x in tick_positions], avg_wages_white_men, width=0.4, label='White Men')\n# Plot for white women starting from 0\nplt.bar([x + 0.2 for x in tick_positions], avg_wages_white_women, width=0.4, label='White Women', bottom=0)\nplt.xlabel('Education Level')\nplt.ylabel('Average Wage')\nplt.title('Average Wage by Education Level - White')\nplt.legend()\nplt.xticks(tick_positions, education_levels, rotation=45)\n\nplt.tight_layout()\nplt.show()",
      "metadata": {
        "trusted": true
      },
      "outputs": [],
      "execution_count": null
    },
    {
      "cell_type": "code",
      "source": "# Step 4 (Continued): Visualize the impact of education on wages for different racial/ethnic groups\n# Plot average wages for different racial/ethnic groups with different education levels\nplt.figure(figsize=(12, 8))\n\n# Generate tick positions\ntick_positions = [x for x in range(len(avg_wages_black_men))]\n\n# Black demographic group\nplt.subplot(2, 2, 2)\n# Plot for black men\nplt.bar([x - 0.2 for x in tick_positions], avg_wages_black_men, width=0.4, label='Black Men')\n# Plot for black women starting from 0\nplt.bar([x + 0.2 for x in tick_positions], avg_wages_black_women, width=0.4, label='Black Women', bottom=0)\nplt.xlabel('Education Level')\nplt.ylabel('Average Wage')\nplt.title('Average Wage by Education Level - Black')\nplt.legend()\nplt.xticks(tick_positions, education_levels, rotation=45)\n\nplt.tight_layout()\nplt.show()",
      "metadata": {
        "trusted": true
      },
      "outputs": [],
      "execution_count": null
    },
    {
      "cell_type": "code",
      "source": "# Step 4 (Continued): Visualize the impact of education on wages for different racial/ethnic groups\n# Plot average wages for different racial/ethnic groups with different education levels\nplt.figure(figsize=(12, 8))\n\n# Generate tick positions\ntick_positions = [x for x in range(len(avg_wages_hispanic_men))]\n\n# Hispanic demographic group\nplt.subplot(2, 2, 3)\n# Plot for Hispanic men\nbars_men = plt.bar([x - 0.2 for x in tick_positions], avg_wages_hispanic_men, width=0.4, label='Hispanic Men')\n# Plot for Hispanic women starting from 0\nbars_women = plt.bar([x + 0.2 for x in tick_positions], avg_wages_hispanic_women, width=0.4, label='Hispanic Women', bottom=0)\nplt.xlabel('Education Level')\nplt.ylabel('Average Wage')\nplt.title('Average Wage by Education Level - Hispanic')\nplt.legend()\nplt.xticks(tick_positions, education_levels, rotation=45)\n\n# Add labels on top of each bar\nfor bar_men, bar_women in zip(bars_men, bars_women):\n    height_men = bar_men.get_height()\n    height_women = bar_women.get_height()\n    plt.text(bar_men.get_x() + bar_men.get_width() / 2, height_men, f'{height_men:.2f}', ha='center', va='bottom', color='black', fontsize=8)\n    plt.text(bar_women.get_x() + bar_women.get_width() / 2, height_women, f'{height_women:.2f}', ha='center', va='bottom', color='black', fontsize=8)\n\nplt.tight_layout()\nplt.show()",
      "metadata": {
        "trusted": true
      },
      "outputs": [],
      "execution_count": null
    }
  ]
}